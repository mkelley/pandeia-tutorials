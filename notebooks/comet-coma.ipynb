{
 "cells": [
  {
   "cell_type": "markdown",
   "metadata": {},
   "source": [
    "# Observe a comet coma\n",
    "An idealized cometary coma has a $1/\\rho$ surface brightness profile, where $\\rho$ is the projected distance to the nucleus.  In this exercise, we will generate a coma, and simulate a *JWST* observation of it.  Let the comet have the following geometrical parameters, equivalent to 88P/Howell on 1 June 2020:\n",
    "\n",
    "* $r_h$ = 1.83 au\n",
    "* $\\Delta$ = 1.11 au\n",
    "* Phase angle = 29 deg\n",
    "\n",
    "## Dust spectrum\n",
    "\n",
    "Use $Af\\rho$ quantity of A'Hearn et al. (1984), and $\\epsilon f \\rho$ quantity of Kelley et al. (2013) to generate the reflected and thermal components of the dust.  Let $Af\\rho=100$ cm, and $\\epsilon f / A f=3.5$.  See Kelley et al. (2013) for details."
   ]
  },
  {
   "cell_type": "code",
   "execution_count": 1,
   "metadata": {
    "collapsed": false
   },
   "outputs": [
    {
     "name": "stderr",
     "output_type": "stream",
     "text": [
      "WARNING: AstropyDeprecationWarning: Config parameter 'enabled_record_valued_keyword_cards' in section [io.fits] of the file '/home/msk/.astropy/config/astropy.cfg' is deprecated. Use 'enable_record_valued_keyword_cards' in section [io.fits] instead. [astropy.config.configuration]\n"
     ]
    }
   ],
   "source": [
    "import numpy as np\n",
    "import pysynphot as S\n",
    "\n",
    "rh = 1.83\n",
    "delta = 1.11\n",
    "phase = 29\n",
    "\n",
    "afrho = 100  # cm\n",
    "efrho = 3.5 * afrho  # cm\n",
    "\n"
   ]
  },
  {
   "cell_type": "code",
   "execution_count": null,
   "metadata": {
    "collapsed": true
   },
   "outputs": [],
   "source": []
  }
 ],
 "metadata": {
  "kernelspec": {
   "display_name": "Python 2",
   "language": "python",
   "name": "python2"
  },
  "language_info": {
   "codemirror_mode": {
    "name": "ipython",
    "version": 2
   },
   "file_extension": ".py",
   "mimetype": "text/x-python",
   "name": "python",
   "nbconvert_exporter": "python",
   "pygments_lexer": "ipython2",
   "version": "2.7.13"
  }
 },
 "nbformat": 4,
 "nbformat_minor": 2
}
